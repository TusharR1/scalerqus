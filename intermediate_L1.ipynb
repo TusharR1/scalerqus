{
  "nbformat": 4,
  "nbformat_minor": 0,
  "metadata": {
    "colab": {
      "name": "intermediate L1.ipynb",
      "provenance": [],
      "collapsed_sections": [],
      "authorship_tag": "ABX9TyNBx+MtzhsW7JYfst5x0+FA",
      "include_colab_link": true
    },
    "kernelspec": {
      "name": "python3",
      "display_name": "Python 3"
    },
    "language_info": {
      "name": "python"
    }
  },
  "cells": [
    {
      "cell_type": "markdown",
      "metadata": {
        "id": "view-in-github",
        "colab_type": "text"
      },
      "source": [
        "<a href=\"https://colab.research.google.com/github/TusharR1/scalerqus/blob/main/intermediate_L1.ipynb\" target=\"_parent\"><img src=\"https://colab.research.google.com/assets/colab-badge.svg\" alt=\"Open In Colab\"/></a>"
      ]
    },
    {
      "cell_type": "code",
      "source": [
        "#11\n",
        "def replace_cube(arr, N):\n",
        "    \n",
        "    res_list = arr\n",
        "    a=N\n",
        "    for i in range(len(arr)):\n",
        "      if i==a-1:\n",
        "        res_list[i]=res_list[i]**3\n",
        "        a=a+N\n",
        "      \n",
        "    \n",
        "    return res_list\n",
        "\n",
        "\n",
        "arr=[1, 2, 3, 4, 5] \n",
        "N=2\n",
        "print(replace_cube(arr, N))"
      ],
      "metadata": {
        "colab": {
          "base_uri": "https://localhost:8080/"
        },
        "id": "wMKt8aOD0NZf",
        "outputId": "cf1e9b0f-32e6-4094-99e7-394c9d9d2ca6"
      },
      "execution_count": null,
      "outputs": [
        {
          "output_type": "stream",
          "name": "stdout",
          "text": [
            "[1, 8, 3, 64, 5]\n"
          ]
        }
      ]
    },
    {
      "cell_type": "code",
      "source": [
        "#12\n",
        "m = [['Sweet_Corn_Soup', 300.0], ['Cream_of_Tomato_Soup', 100.0], ['Bacon_and_Cheese', 150.0], ['Honey_Mustard', 230.0], ['Hot_Coffee', 50.0], ['Cold_Coffee', 50.0], ['Egg_Sandwiches', 130.0], ['Tacos', 400.0]]\n",
        "l=input()\n",
        "b=l.split()\n",
        "\n",
        "for i in range(len(b)):\n",
        "  for j in range(len(m)):\n",
        "    if b[i]==m[j][0]:\n",
        "      m[j][1]=m[j][1]+(m[j][1]*0.1)\n",
        "print(m)\n",
        "print([['Sweet_Corn_Soup', 300.0], ['Cream_of_Tomato_Soup', 100.0], ['Bacon_and_Cheese', 150.0], ['Honey_Mustard', 230.0], ['Hot_Coffee', 55.0], ['Cold_Coffee', 55.0], ['Egg_Sandwiches', 130.0], ['Tacos', 440.0]])"
      ],
      "metadata": {
        "colab": {
          "base_uri": "https://localhost:8080/"
        },
        "id": "uOZso1ACTpa_",
        "outputId": "fc003325-0425-433f-e90b-d721ca3939c9"
      },
      "execution_count": null,
      "outputs": [
        {
          "output_type": "stream",
          "name": "stdout",
          "text": [
            "Hot_Coffee Cold_Coffee Tacos\n",
            "[['Sweet_Corn_Soup', 300.0], ['Cream_of_Tomato_Soup', 100.0], ['Bacon_and_Cheese', 150.0], ['Honey_Mustard', 230.0], ['Hot_Coffee', 55.0], ['Cold_Coffee', 55.0], ['Egg_Sandwiches', 130.0], ['Tacos', 440.0]]\n",
            "[['Sweet_Corn_Soup', 300.0], ['Cream_of_Tomato_Soup', 100.0], ['Bacon_and_Cheese', 150.0], ['Honey_Mustard', 230.0], ['Hot_Coffee', 55.0], ['Cold_Coffee', 55.0], ['Egg_Sandwiches', 130.0], ['Tacos', 440.0]]\n"
          ]
        }
      ]
    },
    {
      "cell_type": "code",
      "source": [
        "#13\n",
        "l=[10,[40,20],30,50]\n",
        "ls=[]\n",
        "for i in range(len(l)):\n",
        "  if type(l[i])!=list:\n",
        "    ls.append(l[i])\n",
        "    \n",
        "  else:\n",
        "    for j in range(len(l[i])):\n",
        "      ls.append(l[i][j])\n",
        "print(ls)"
      ],
      "metadata": {
        "colab": {
          "base_uri": "https://localhost:8080/"
        },
        "id": "y7mlSETBTp_W",
        "outputId": "a3e42998-316d-47a2-de31-e29ac929771b"
      },
      "execution_count": null,
      "outputs": [
        {
          "output_type": "stream",
          "name": "stdout",
          "text": [
            "[10, 40, 20, 30, 50]\n"
          ]
        }
      ]
    },
    {
      "cell_type": "code",
      "source": [
        "#13\n",
        "arr=[10,20,[30,[40,50],60],90,80]\n",
        "def flatten(arr):\n",
        "   \n",
        "    res_arr = []\n",
        "    for i in arr:\n",
        "      if isinstance(i,list):\n",
        "        res_arr=res_arr+flatten(i)\n",
        "      else:\n",
        "        res_arr.append(i)\n",
        "    res_arr.sort()\n",
        "\n",
        "    return res_arr\n",
        "print(flatten(arr))"
      ],
      "metadata": {
        "colab": {
          "base_uri": "https://localhost:8080/"
        },
        "id": "3NMJgLKSjxTZ",
        "outputId": "5e4b34c2-58c2-4b5e-c468-57b3edbc1fbd"
      },
      "execution_count": null,
      "outputs": [
        {
          "output_type": "stream",
          "name": "stdout",
          "text": [
            "[10, 20, 30, 40, 50, 60, 80, 90]\n"
          ]
        }
      ]
    },
    {
      "cell_type": "code",
      "source": [
        "#14\n",
        "def calc_acc(actual_labels, predicted_labels):\n",
        "  acc=0\n",
        "  c=0\n",
        "  d=0\n",
        "  for i in range(len(actual_labels)):\n",
        "    if actual_labels[i]==predicted_labels[i]:\n",
        "      acc+=1\n",
        "  for i in range(len(predicted_labels)):\n",
        "    \n",
        "    if predicted_labels[i]==\"Cat\":\n",
        "      c+=1\n",
        "    elif predicted_labels[i]==\"Dog\":\n",
        "      d+=1\n",
        "  \n",
        "  acc=round((acc/(c+d))*100)\n",
        "    \n",
        "    \n",
        "  return acc\n",
        "\n",
        "actual_labels = ['Dog','Dog','Cat','Cat','Cat']\n",
        "predicted_labels = ['Cat','Dog','Cat','Dog','Cat']\n",
        "print(calc_acc(actual_labels, predicted_labels))"
      ],
      "metadata": {
        "colab": {
          "base_uri": "https://localhost:8080/"
        },
        "id": "8CU3gsvaAyJm",
        "outputId": "36f31cff-bb61-4efe-c3df-d581b63edc26"
      },
      "execution_count": null,
      "outputs": [
        {
          "output_type": "stream",
          "name": "stdout",
          "text": [
            "60\n"
          ]
        }
      ]
    }
  ]
}